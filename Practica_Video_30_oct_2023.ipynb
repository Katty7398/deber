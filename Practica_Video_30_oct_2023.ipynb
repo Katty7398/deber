{
  "nbformat": 4,
  "nbformat_minor": 0,
  "metadata": {
    "colab": {
      "provenance": [],
      "include_colab_link": true
    },
    "kernelspec": {
      "name": "python3",
      "display_name": "Python 3"
    },
    "language_info": {
      "name": "python"
    }
  },
  "cells": [
    {
      "cell_type": "markdown",
      "metadata": {
        "id": "view-in-github",
        "colab_type": "text"
      },
      "source": [
        "<a href=\"https://colab.research.google.com/github/Katty7398/deber/blob/main/Practica_Video_30_oct_2023.ipynb\" target=\"_parent\"><img src=\"https://colab.research.google.com/assets/colab-badge.svg\" alt=\"Open In Colab\"/></a>"
      ]
    },
    {
      "cell_type": "code",
      "source": [
        "!python --version"
      ],
      "metadata": {
        "colab": {
          "base_uri": "https://localhost:8080/"
        },
        "id": "GUtRAQlfbe4O",
        "outputId": "51ad313c-aae9-42e9-f39d-93ffb7a0c57c"
      },
      "execution_count": null,
      "outputs": [
        {
          "output_type": "stream",
          "name": "stdout",
          "text": [
            "Python 3.10.12\n"
          ]
        }
      ]
    },
    {
      "cell_type": "markdown",
      "source": [
        "Tipos de Datos Básicos"
      ],
      "metadata": {
        "id": "pZvtgnaKb0nd"
      }
    },
    {
      "cell_type": "code",
      "source": [
        "sample1=10\n",
        "sample2=2.2\n",
        "sample3=\"Katty\"\n",
        "\n",
        "print(type(sample1))\n",
        "print(type(sample2))\n",
        "print(type(sample3))\n",
        "\n",
        "print(sample1+sample2)\n",
        "print(sample1*sample2)\n",
        "print(sample1-sample2)\n",
        "print(sample1**2)\n",
        "\n",
        "s1=True\n",
        "s2=False\n",
        "print(s1 and s2)\n",
        "print(s1 or s2)\n",
        "print(s2 and s1)\n",
        "print(not s1)\n",
        "\n",
        "print(len(sample3))\n",
        "print(sample3.upper())\n",
        "print(sample3.lower())\n",
        "print(sample3.capitalize())"
      ],
      "metadata": {
        "colab": {
          "base_uri": "https://localhost:8080/"
        },
        "id": "sKFa03v2cIOQ",
        "outputId": "3ea51c60-7802-459f-b185-838803eccb78"
      },
      "execution_count": 1,
      "outputs": [
        {
          "output_type": "stream",
          "name": "stdout",
          "text": [
            "<class 'int'>\n",
            "<class 'float'>\n",
            "<class 'str'>\n",
            "12.2\n",
            "22.0\n",
            "7.8\n",
            "100\n",
            "False\n",
            "True\n",
            "False\n",
            "False\n",
            "5\n",
            "KATTY\n",
            "katty\n",
            "Katty\n"
          ]
        }
      ]
    },
    {
      "cell_type": "markdown",
      "source": [
        "listas"
      ],
      "metadata": {
        "id": "BNaH6dfHg66W"
      }
    },
    {
      "cell_type": "code",
      "source": [
        "someList=list()\n",
        "someList=[\"borrador\",1,\"goma\",\"mochila\",True]\n",
        "print(someList[4])\n",
        "print(len(someList))\n",
        "\n",
        "print(\"----------\")\n",
        "for i in someList:\n",
        "  print(i)\n",
        "\n",
        "someList.append(\"regla\")\n",
        "print(\"----------\")\n",
        "for i in someList:\n",
        "  print(i)\n",
        "\n",
        "someList.pop(2)\n",
        "print(\"----------\")\n",
        "for i in someList:\n",
        "  print(i)\n",
        "\n",
        "print(\"----------\")\n",
        "print(someList[1:4])\n",
        "\n",
        "print(someList[-1])\n",
        "print(someList[:3])\n"
      ],
      "metadata": {
        "colab": {
          "base_uri": "https://localhost:8080/"
        },
        "id": "NmjKucy7kUAD",
        "outputId": "3a3af368-52fe-44ba-f685-e852f8c0b71e"
      },
      "execution_count": null,
      "outputs": [
        {
          "output_type": "stream",
          "name": "stdout",
          "text": [
            "True\n",
            "5\n",
            "----------\n",
            "borrador\n",
            "1\n",
            "goma\n",
            "mochila\n",
            "True\n",
            "----------\n",
            "borrador\n",
            "1\n",
            "goma\n",
            "mochila\n",
            "True\n",
            "regla\n",
            "----------\n",
            "borrador\n",
            "1\n",
            "mochila\n",
            "True\n",
            "regla\n",
            "----------\n",
            "[1, 'mochila', True]\n",
            "regla\n",
            "['borrador', 1, 'mochila']\n"
          ]
        }
      ]
    },
    {
      "cell_type": "markdown",
      "source": [
        "Diccionarios"
      ],
      "metadata": {
        "id": "REf05_FFo21P"
      }
    },
    {
      "cell_type": "code",
      "source": [
        "from __future__ import unicode_literals\n",
        "d={\"name\":\"Katty\",\"age\":22,\"city\":\"Santo Domingo\"}\n",
        "print(d[\"name\"])\n",
        "print(d[\"age\"])\n",
        "print(d[\"city\"])\n",
        "\n",
        "d[\"uni\"]=\"Uleam\"\n",
        "print(d[\"uni\"])\n",
        "\n",
        "for key in d:\n",
        "  print(d[key])"
      ],
      "metadata": {
        "colab": {
          "base_uri": "https://localhost:8080/"
        },
        "id": "xE9DuWYmo9FN",
        "outputId": "8f94d82a-e2e1-42ba-995f-ae9ea64ce506"
      },
      "execution_count": 3,
      "outputs": [
        {
          "output_type": "stream",
          "name": "stdout",
          "text": [
            "Katty\n",
            "22\n",
            "Santo Domingo\n",
            "Uleam\n",
            "Katty\n",
            "22\n",
            "Santo Domingo\n",
            "Uleam\n"
          ]
        }
      ]
    }
  ]
}