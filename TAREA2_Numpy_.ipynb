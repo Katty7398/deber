{
  "nbformat": 4,
  "nbformat_minor": 0,
  "metadata": {
    "colab": {
      "provenance": [],
      "include_colab_link": true
    },
    "kernelspec": {
      "name": "python3",
      "display_name": "Python 3"
    },
    "language_info": {
      "name": "python"
    }
  },
  "cells": [
    {
      "cell_type": "markdown",
      "metadata": {
        "id": "view-in-github",
        "colab_type": "text"
      },
      "source": [
        "<a href=\"https://colab.research.google.com/github/Katty7398/deber/blob/main/TAREA2_Numpy_.ipynb\" target=\"_parent\"><img src=\"https://colab.research.google.com/assets/colab-badge.svg\" alt=\"Open In Colab\"/></a>"
      ]
    },
    {
      "cell_type": "markdown",
      "source": [
        "MATRIZ RANGO 1 Y 2"
      ],
      "metadata": {
        "id": "4-us78vIQNUm"
      }
    },
    {
      "cell_type": "markdown",
      "source": [],
      "metadata": {
        "id": "xfYY3K9yX0Gd"
      }
    },
    {
      "cell_type": "code",
      "execution_count": null,
      "metadata": {
        "colab": {
          "base_uri": "https://localhost:8080/"
        },
        "id": "5Bry79BDNawD",
        "outputId": "427ece74-468c-46b3-a993-ccec8aa7c509"
      },
      "outputs": [
        {
          "output_type": "stream",
          "name": "stdout",
          "text": [
            "[1 2 4 5]\n",
            "(4,)\n",
            "(2, 4)\n",
            "[[1 2 3 4]\n",
            " [1 2 3 4]]\n",
            "<class 'numpy.ndarray'>\n",
            "[[0. 0. 0. 0.]\n",
            " [0. 0. 0. 0.]\n",
            " [0. 0. 0. 0.]\n",
            " [0. 0. 0. 0.]]\n",
            "[[5 5 5 5]\n",
            " [5 5 5 5]\n",
            " [5 5 5 5]\n",
            " [5 5 5 5]]\n",
            "[[1. 0. 0. 0.]\n",
            " [0. 1. 0. 0.]\n",
            " [0. 0. 1. 0.]\n",
            " [0. 0. 0. 1.]]\n",
            "----------------\n",
            "[[1. 1. 1. 1.]\n",
            " [1. 1. 1. 1.]\n",
            " [1. 1. 1. 1.]\n",
            " [1. 1. 1. 1.]]\n",
            "(4, 4)\n"
          ]
        }
      ],
      "source": [
        "import numpy as np\n",
        "aux=np.array([1,2,4,5])\n",
        "print(aux)\n",
        "print(aux.shape)\n",
        "\n",
        "\n",
        "\n",
        "aux=np.array([[1,2,3,4],[1,2,3,4]])\n",
        "print(aux.shape)\n",
        "print(aux)\n",
        "print(type(aux))\n",
        "\n",
        "\n",
        "tmp=np.zeros((4,4))\n",
        "print(tmp)\n",
        "\n",
        "tmp=np.full((4,4),5)\n",
        "print(tmp)\n",
        "\n",
        "tmp=np.eye(4,4)\n",
        "print(tmp)\n",
        "\n",
        "print(\"----------------\")\n",
        "tmp=np.ones((4,4))\n",
        "print(tmp)\n",
        "\n",
        "print(tmp.shape)\n"
      ]
    },
    {
      "cell_type": "markdown",
      "source": [
        "MATRIZ 3*3"
      ],
      "metadata": {
        "id": "VY5Iv8oPQTbN"
      }
    },
    {
      "cell_type": "code",
      "source": [
        "tmp=10*np.random.random((3,3))\n",
        "print(tmp)"
      ],
      "metadata": {
        "colab": {
          "base_uri": "https://localhost:8080/"
        },
        "id": "m6dE2ciYN9z3",
        "outputId": "5acb9e89-513c-4ac1-a642-453cca9fcfa6"
      },
      "execution_count": null,
      "outputs": [
        {
          "output_type": "stream",
          "name": "stdout",
          "text": [
            "[[6.0024621  6.36348353 1.59783524]\n",
            " [5.87235239 1.24315553 9.11014664]\n",
            " [6.30507848 9.8378046  9.86194672]]\n"
          ]
        }
      ]
    },
    {
      "cell_type": "markdown",
      "source": [
        "FILA 0 Y FILA 1"
      ],
      "metadata": {
        "id": "HGQY-5RKTAtq"
      }
    },
    {
      "cell_type": "code",
      "source": [
        "print(tmp[:2,:2])"
      ],
      "metadata": {
        "colab": {
          "base_uri": "https://localhost:8080/"
        },
        "id": "_Dvt4i57SZdF",
        "outputId": "5bf4f257-528b-42af-f182-0a6684fea6e6"
      },
      "execution_count": null,
      "outputs": [
        {
          "output_type": "stream",
          "name": "stdout",
          "text": [
            "[[6.0024621  6.36348353]\n",
            " [5.87235239 1.24315553]]\n"
          ]
        }
      ]
    },
    {
      "cell_type": "code",
      "source": [
        "print(tmp[:2,1:3])"
      ],
      "metadata": {
        "colab": {
          "base_uri": "https://localhost:8080/"
        },
        "id": "lza67sB_S-1N",
        "outputId": "d26eff48-afaf-4361-b2a2-fe9983a4bfe8"
      },
      "execution_count": null,
      "outputs": [
        {
          "output_type": "stream",
          "name": "stdout",
          "text": [
            "[[6.36348353 1.59783524]\n",
            " [1.24315553 9.11014664]]\n"
          ]
        }
      ]
    },
    {
      "cell_type": "code",
      "source": [
        "print(tmp[1,1])"
      ],
      "metadata": {
        "colab": {
          "base_uri": "https://localhost:8080/"
        },
        "id": "y700npGhTVCF",
        "outputId": "507a0d74-1fbf-40c6-d30c-24aebd8886fc"
      },
      "execution_count": null,
      "outputs": [
        {
          "output_type": "stream",
          "name": "stdout",
          "text": [
            "1.2431555283513485\n"
          ]
        }
      ]
    },
    {
      "cell_type": "code",
      "source": [
        "print(tmp[2,2])"
      ],
      "metadata": {
        "colab": {
          "base_uri": "https://localhost:8080/"
        },
        "id": "VY23XbvoTuLu",
        "outputId": "0a58e204-7deb-4d90-f747-fc2d4223be07"
      },
      "execution_count": null,
      "outputs": [
        {
          "output_type": "stream",
          "name": "stdout",
          "text": [
            "9.86194671613455\n"
          ]
        }
      ]
    },
    {
      "cell_type": "markdown",
      "source": [
        "filtrar datos\n"
      ],
      "metadata": {
        "id": "9X7Sj0RTUALl"
      }
    },
    {
      "cell_type": "code",
      "source": [
        "tmp=10*np.random.random((3,3))\n",
        "print(tmp)"
      ],
      "metadata": {
        "colab": {
          "base_uri": "https://localhost:8080/"
        },
        "id": "OAfasURKT5F1",
        "outputId": "512f4b4f-ee3b-4709-8d6e-fb58412626ef"
      },
      "execution_count": null,
      "outputs": [
        {
          "output_type": "stream",
          "name": "stdout",
          "text": [
            "[[0.96298409 5.22654223 6.84802529]\n",
            " [9.20886781 8.27367577 2.96807272]\n",
            " [3.41008189 6.91393543 8.38241903]]\n"
          ]
        }
      ]
    },
    {
      "cell_type": "code",
      "source": [
        "mask=tmp>5\n",
        "print(mask)"
      ],
      "metadata": {
        "colab": {
          "base_uri": "https://localhost:8080/"
        },
        "id": "DRH3qZ_JUUzu",
        "outputId": "b6342fe8-3452-4718-e572-3260b385300d"
      },
      "execution_count": null,
      "outputs": [
        {
          "output_type": "stream",
          "name": "stdout",
          "text": [
            "[[False  True  True]\n",
            " [ True  True False]\n",
            " [False  True  True]]\n"
          ]
        }
      ]
    },
    {
      "cell_type": "code",
      "source": [
        "mask=tmp>5\n",
        "print(tmp[mask])"
      ],
      "metadata": {
        "colab": {
          "base_uri": "https://localhost:8080/"
        },
        "id": "q57MPULqUhps",
        "outputId": "169aeee7-0895-4128-fde8-73208f624c7f"
      },
      "execution_count": null,
      "outputs": [
        {
          "output_type": "stream",
          "name": "stdout",
          "text": [
            "[5.22654223 6.84802529 9.20886781 8.27367577 6.91393543 8.38241903]\n"
          ]
        }
      ]
    },
    {
      "cell_type": "code",
      "source": [
        "mask = (tmp >= 2) & (tmp <= 4)\n",
        "print(tmp[mask])"
      ],
      "metadata": {
        "colab": {
          "base_uri": "https://localhost:8080/"
        },
        "id": "RTtpoDVTUw0d",
        "outputId": "71f2bc75-40ce-4372-848a-c4a4e7b6612a"
      },
      "execution_count": null,
      "outputs": [
        {
          "output_type": "stream",
          "name": "stdout",
          "text": [
            "[2.96807272 3.41008189]\n"
          ]
        }
      ]
    },
    {
      "cell_type": "code",
      "source": [
        "integer_array = np.random.randint (0,10, (4,4))\n",
        "print(integer_array)"
      ],
      "metadata": {
        "colab": {
          "base_uri": "https://localhost:8080/"
        },
        "id": "kiNYvX7zXBjE",
        "outputId": "98bf9a40-28d5-40e3-9689-02ba8f1f0dd8"
      },
      "execution_count": null,
      "outputs": [
        {
          "output_type": "stream",
          "name": "stdout",
          "text": [
            "[[2 3 0 0]\n",
            " [4 8 3 3]\n",
            " [9 9 3 3]\n",
            " [0 1 1 4]]\n"
          ]
        }
      ]
    },
    {
      "cell_type": "code",
      "source": [
        "# Crear una máscara booleana para los números pares\n",
        "mascara_pares = integer_array % 2 == 0\n",
        "\n",
        "# Filtrar los números pares utilizando la máscara\n",
        "numeros_pares = integer_array[mascara_pares]\n",
        "\n",
        "print(\"\\nNúmeros pares:\")\n",
        "print(numeros_pares)\n"
      ],
      "metadata": {
        "colab": {
          "base_uri": "https://localhost:8080/"
        },
        "id": "jzg-AueQXVI7",
        "outputId": "b449ed19-320e-4803-ded2-d029942e7593"
      },
      "execution_count": null,
      "outputs": [
        {
          "output_type": "stream",
          "name": "stdout",
          "text": [
            "\n",
            "Números pares:\n",
            "[2 0 0 4 8 0 4]\n"
          ]
        }
      ]
    },
    {
      "cell_type": "markdown",
      "source": [
        "2matrices de **3x4**"
      ],
      "metadata": {
        "id": "rJn93FkXzuPM"
      }
    },
    {
      "cell_type": "code",
      "source": [
        "import numpy as np\n",
        "a= np.random.randint(1,11, size=(3,4))\n",
        "b= np.random.randint(1,11, size=(3,4))\n",
        "print(a)\n",
        "print(b)\n",
        "print(a.shape)\n",
        "print(\"adding numbers\")\n",
        "print(a+b)"
      ],
      "metadata": {
        "colab": {
          "base_uri": "https://localhost:8080/"
        },
        "id": "bTFIZcBRzaqG",
        "outputId": "81835c78-d5b4-4367-b1c8-e74fe18aa4df"
      },
      "execution_count": 1,
      "outputs": [
        {
          "output_type": "stream",
          "name": "stdout",
          "text": [
            "[[ 2  6  5  8]\n",
            " [ 3  9  4  2]\n",
            " [ 7  6  3 10]]\n",
            "[[8 1 9 7]\n",
            " [8 4 2 4]\n",
            " [6 8 8 8]]\n",
            "(3, 4)\n",
            "adding numbers\n",
            "[[10  7 14 15]\n",
            " [11 13  6  6]\n",
            " [13 14 11 18]]\n"
          ]
        }
      ]
    },
    {
      "cell_type": "code",
      "source": [
        "import numpy as np\n",
        "a= np.random.randint(1,11, size=(3,4))\n",
        "b= np.random.randint(1,11, size=(3,4))\n",
        "print(a)\n",
        "print(b)\n",
        "print(a.shape)\n",
        "print(b.shape)\n",
        "print(\"adding numbers\")\n",
        "print(a+b)\n",
        "print(\"substracting numbers\")\n",
        "print(a-b)\n",
        "print(np.add(a,b))\n",
        "print(np.multiply(a,b))\n"
      ],
      "metadata": {
        "colab": {
          "base_uri": "https://localhost:8080/"
        },
        "id": "kiFDIBoczv_8",
        "outputId": "d866fa8c-726e-43f4-c131-44a6a6bdeb78"
      },
      "execution_count": 2,
      "outputs": [
        {
          "output_type": "stream",
          "name": "stdout",
          "text": [
            "[[10  6  4  1]\n",
            " [ 8  9  4  9]\n",
            " [ 5  7  7  9]]\n",
            "[[2 2 4 1]\n",
            " [4 7 7 7]\n",
            " [3 2 2 4]]\n",
            "(3, 4)\n",
            "(3, 4)\n",
            "adding numbers\n",
            "[[12  8  8  2]\n",
            " [12 16 11 16]\n",
            " [ 8  9  9 13]]\n",
            "substracting numbers\n",
            "[[ 8  4  0  0]\n",
            " [ 4  2 -3  2]\n",
            " [ 2  5  5  5]]\n",
            "[[12  8  8  2]\n",
            " [12 16 11 16]\n",
            " [ 8  9  9 13]]\n",
            "[[20 12 16  1]\n",
            " [32 63 28 63]\n",
            " [15 14 14 36]]\n"
          ]
        }
      ]
    },
    {
      "cell_type": "code",
      "source": [
        "a= np.random.randint(1,11, size=(2,3))\n",
        "b= np.random.randint(1,11, size=(3,4))\n",
        "print(a)\n",
        "print(b)\n",
        "print(np.dot(a,b))"
      ],
      "metadata": {
        "colab": {
          "base_uri": "https://localhost:8080/"
        },
        "id": "XOBkbavT0S9Z",
        "outputId": "8a3be516-c21d-4dd2-a7c3-726623d71597"
      },
      "execution_count": 3,
      "outputs": [
        {
          "output_type": "stream",
          "name": "stdout",
          "text": [
            "[[6 3 9]\n",
            " [5 7 8]]\n",
            "[[ 6  8  6  3]\n",
            " [ 9 10  6  4]\n",
            " [10  9  1  3]]\n",
            "[[153 159  63  57]\n",
            " [173 182  80  67]]\n"
          ]
        }
      ]
    },
    {
      "cell_type": "code",
      "source": [
        "a= np.random.randint(1,11, size=(2,3))\n",
        "b= np.random.randint(1,11, size=(3,4))\n",
        "print(a)\n",
        "print(b)\n",
        "print(np.dot(a,b))\n",
        "print(a.dot(b))"
      ],
      "metadata": {
        "colab": {
          "base_uri": "https://localhost:8080/"
        },
        "id": "kYMum_fH0Waj",
        "outputId": "67825e51-c733-406c-d6d3-d2ceacafbdbf"
      },
      "execution_count": 4,
      "outputs": [
        {
          "output_type": "stream",
          "name": "stdout",
          "text": [
            "[[3 9 9]\n",
            " [2 8 9]]\n",
            "[[ 8  6  5  4]\n",
            " [ 9  8  3  6]\n",
            " [10  8  4  4]]\n",
            "[[195 162  78 102]\n",
            " [178 148  70  92]]\n",
            "[[195 162  78 102]\n",
            " [178 148  70  92]]\n"
          ]
        }
      ]
    },
    {
      "cell_type": "code",
      "source": [
        "a= np.random.randint(1,11, size=(2,2))\n",
        "print(a.shape)\n",
        "print(type(a))"
      ],
      "metadata": {
        "colab": {
          "base_uri": "https://localhost:8080/"
        },
        "id": "Rsnf9_yO0Z-x",
        "outputId": "caf6718c-dcb7-4657-d623-4ba02aff4e17"
      },
      "execution_count": 5,
      "outputs": [
        {
          "output_type": "stream",
          "name": "stdout",
          "text": [
            "(2, 2)\n",
            "<class 'numpy.ndarray'>\n"
          ]
        }
      ]
    },
    {
      "cell_type": "code",
      "source": [
        "a= np.random.randint(1,11, size=(2,2))\n",
        "print(a.shape)\n",
        "print(type(a))\n",
        "print(a)\n",
        "print(a.T)\n"
      ],
      "metadata": {
        "colab": {
          "base_uri": "https://localhost:8080/"
        },
        "id": "Oe-Vd8gr0dX4",
        "outputId": "f0094fa4-f9f9-44e1-a170-96d773f6ac3e"
      },
      "execution_count": 6,
      "outputs": [
        {
          "output_type": "stream",
          "name": "stdout",
          "text": [
            "(2, 2)\n",
            "<class 'numpy.ndarray'>\n",
            "[[ 7 10]\n",
            " [ 1  7]]\n",
            "[[ 7  1]\n",
            " [10  7]]\n"
          ]
        }
      ]
    },
    {
      "cell_type": "code",
      "source": [
        "a= np.random.randint(1,11, size=(4,3))\n",
        "b= np.array([1,0,2])\n",
        "print(a.shape)\n",
        "print(b.shape)\n",
        "\n",
        "c=np.empty_like(a)\n",
        "print(a)\n",
        "print(b)\n",
        "print(c.shape)\n",
        "print('-------------')\n",
        "print(c)\n",
        "print('-------------')\n",
        "\n",
        "for i in range(4):\n",
        "  c[i,:]=a[i,:]+b\n",
        "\n",
        "print(a)\n",
        "print(b)\n",
        "print(c)"
      ],
      "metadata": {
        "colab": {
          "base_uri": "https://localhost:8080/"
        },
        "id": "HMiD4y0g0fPH",
        "outputId": "960b9f41-7133-44b0-acc4-4f9721883fce"
      },
      "execution_count": 7,
      "outputs": [
        {
          "output_type": "stream",
          "name": "stdout",
          "text": [
            "(4, 3)\n",
            "(3,)\n",
            "[[ 4  1  4]\n",
            " [ 2  1  2]\n",
            " [10  5  7]\n",
            " [ 7  5  1]]\n",
            "[1 0 2]\n",
            "(4, 3)\n",
            "-------------\n",
            "[[10  6  4]\n",
            " [ 1  8  9]\n",
            " [ 4  9  5]\n",
            " [ 7  7  9]]\n",
            "-------------\n",
            "[[ 4  1  4]\n",
            " [ 2  1  2]\n",
            " [10  5  7]\n",
            " [ 7  5  1]]\n",
            "[1 0 2]\n",
            "[[ 5  1  6]\n",
            " [ 3  1  4]\n",
            " [11  5  9]\n",
            " [ 8  5  3]]\n"
          ]
        }
      ]
    },
    {
      "cell_type": "code",
      "source": [
        "a=np.array([1,2,3])\n",
        "print(a)"
      ],
      "metadata": {
        "colab": {
          "base_uri": "https://localhost:8080/"
        },
        "id": "59lo4DTw0leB",
        "outputId": "186dcfae-a216-4ecd-e8eb-f3b2916a2653"
      },
      "execution_count": 8,
      "outputs": [
        {
          "output_type": "stream",
          "name": "stdout",
          "text": [
            "[1 2 3]\n"
          ]
        }
      ]
    },
    {
      "cell_type": "code",
      "source": [
        "a=np.array([1,2,3])\n",
        "print(a)\n",
        "tmp=np.tile(a,(6,1))\n",
        "print(tmp)\n",
        "print('----------')\n",
        "b=np.array([1,2,3])\n",
        "print(b)\n",
        "tmp=np.tile(a,(6,1))\n",
        "print(tmp)\n",
        "print('----------')\n",
        "c=np.array([1,2,3])\n",
        "print(c)\n",
        "tmp=np.tile(a,(6,1))\n",
        "print(tmp)\n",
        "print('-----------')\n",
        "d=np.array([1,2,3])\n",
        "print(d)\n",
        "tmp=np.tile(a,(6,1))\n",
        "print(tmp)"
      ],
      "metadata": {
        "colab": {
          "base_uri": "https://localhost:8080/"
        },
        "id": "cIQ_Q8JP0op3",
        "outputId": "18196698-3cd4-4ec9-8c17-41fc79d60612"
      },
      "execution_count": 9,
      "outputs": [
        {
          "output_type": "stream",
          "name": "stdout",
          "text": [
            "[1 2 3]\n",
            "[[1 2 3]\n",
            " [1 2 3]\n",
            " [1 2 3]\n",
            " [1 2 3]\n",
            " [1 2 3]\n",
            " [1 2 3]]\n",
            "----------\n",
            "[1 2 3]\n",
            "[[1 2 3]\n",
            " [1 2 3]\n",
            " [1 2 3]\n",
            " [1 2 3]\n",
            " [1 2 3]\n",
            " [1 2 3]]\n",
            "----------\n",
            "[1 2 3]\n",
            "[[1 2 3]\n",
            " [1 2 3]\n",
            " [1 2 3]\n",
            " [1 2 3]\n",
            " [1 2 3]\n",
            " [1 2 3]]\n",
            "-----------\n",
            "[1 2 3]\n",
            "[[1 2 3]\n",
            " [1 2 3]\n",
            " [1 2 3]\n",
            " [1 2 3]\n",
            " [1 2 3]\n",
            " [1 2 3]]\n"
          ]
        }
      ]
    },
    {
      "cell_type": "code",
      "source": [
        "a=np.random.randint(0, 10, size=(6,6))\n",
        "print(a)\n",
        "aux=np.mean(a)\n",
        "print(aux)"
      ],
      "metadata": {
        "colab": {
          "base_uri": "https://localhost:8080/"
        },
        "id": "lgglx-To0sOW",
        "outputId": "827693b1-f034-499f-8eb5-727b48f8800e"
      },
      "execution_count": 10,
      "outputs": [
        {
          "output_type": "stream",
          "name": "stdout",
          "text": [
            "[[7 2 4 3 1 1]\n",
            " [8 8 4 4 8 3]\n",
            " [7 3 0 9 5 5]\n",
            " [2 3 4 7 3 0]\n",
            " [3 9 6 2 4 7]\n",
            " [2 6 7 8 4 9]]\n",
            "4.666666666666667\n"
          ]
        }
      ]
    },
    {
      "cell_type": "code",
      "source": [
        "a=np.random.randint(0, 10, size=(6,6))\n",
        "print(a)\n",
        "aux=np.mean(a)\n",
        "print(aux)\n",
        "\n",
        "print(a.mean(axis=1))"
      ],
      "metadata": {
        "colab": {
          "base_uri": "https://localhost:8080/"
        },
        "id": "PTXvMCn10vW3",
        "outputId": "951dd09a-640a-4e3e-e7b6-9926411b9fcb"
      },
      "execution_count": 11,
      "outputs": [
        {
          "output_type": "stream",
          "name": "stdout",
          "text": [
            "[[2 0 8 0 8 7]\n",
            " [7 2 2 9 5 5]\n",
            " [5 4 0 6 3 4]\n",
            " [3 6 5 2 0 5]\n",
            " [1 2 7 8 0 2]\n",
            " [8 3 7 2 3 9]]\n",
            "4.166666666666667\n",
            "[4.16666667 5.         3.66666667 3.5        3.33333333 5.33333333]\n"
          ]
        }
      ]
    }
  ]
}