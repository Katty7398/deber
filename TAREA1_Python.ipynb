{
  "nbformat": 4,
  "nbformat_minor": 0,
  "metadata": {
    "colab": {
      "provenance": [],
      "include_colab_link": true
    },
    "kernelspec": {
      "name": "python3",
      "display_name": "Python 3"
    },
    "language_info": {
      "name": "python"
    }
  },
  "cells": [
    {
      "cell_type": "markdown",
      "metadata": {
        "id": "view-in-github",
        "colab_type": "text"
      },
      "source": [
        "<a href=\"https://colab.research.google.com/github/Katty7398/deber/blob/main/TAREA1_Python.ipynb\" target=\"_parent\"><img src=\"https://colab.research.google.com/assets/colab-badge.svg\" alt=\"Open In Colab\"/></a>"
      ]
    },
    {
      "cell_type": "code",
      "execution_count": null,
      "metadata": {
        "colab": {
          "base_uri": "https://localhost:8080/"
        },
        "id": "jvjBeMbhTAXN",
        "outputId": "43e033d8-9aef-4c90-ce2c-9959b1fc2d84"
      },
      "outputs": [
        {
          "output_type": "stream",
          "name": "stdout",
          "text": [
            "Python 3.10.12 (main, Jun 11 2023, 05:26:28) [GCC 11.4.0] on linux\n",
            "Type \"help\", \"copyright\", \"credits\" or \"license\" for more information.\n",
            ">>> \n",
            "\n",
            "KeyboardInterrupt\n",
            ">>> \n",
            "KeyboardInterrupt\n",
            ">>> ^C\n"
          ]
        }
      ],
      "source": [
        "!python"
      ]
    },
    {
      "cell_type": "code",
      "source": [
        "myVariable_1=4\n",
        "myVariable_2=6\n",
        "\n",
        "print(myVariable_1+myVariable_2)\n",
        "print(myVariable_1-myVariable_2)\n",
        "print(myVariable_1*myVariable_2)\n",
        "print(myVariable_1/myVariable_2)\n",
        "print(myVariable_1**myVariable_2)"
      ],
      "metadata": {
        "colab": {
          "base_uri": "https://localhost:8080/"
        },
        "id": "FoXb7BkoTFRw",
        "outputId": "da304333-2af2-4cc3-d859-2aaaa9f0c807"
      },
      "execution_count": null,
      "outputs": [
        {
          "output_type": "stream",
          "name": "stdout",
          "text": [
            "10\n",
            "-2\n",
            "24\n",
            "0.6666666666666666\n",
            "4096\n"
          ]
        }
      ]
    },
    {
      "cell_type": "code",
      "source": [
        "aux1=True\n",
        "aux2=False\n",
        "\n",
        "print(aux1 and aux2)\n",
        "\n",
        "print(aux1 or aux2)\n",
        "print(not aux1)"
      ],
      "metadata": {
        "colab": {
          "base_uri": "https://localhost:8080/"
        },
        "id": "_GwteiYNUlop",
        "outputId": "9b42bd76-5ff1-4713-8da6-6f6b0ab770c5"
      },
      "execution_count": null,
      "outputs": [
        {
          "output_type": "stream",
          "name": "stdout",
          "text": [
            "False\n",
            "True\n",
            "False\n"
          ]
        }
      ]
    },
    {
      "cell_type": "code",
      "source": [
        "myNameIs='Katty Fuertes'\n",
        "print(myNameIs)\n",
        "\n",
        "print(myNameIs.upper())\n",
        "print(myNameIs.lower())"
      ],
      "metadata": {
        "colab": {
          "base_uri": "https://localhost:8080/"
        },
        "id": "Q6IwpPrcU3a5",
        "outputId": "3078e4c2-bbcc-4cf8-a112-c6cfc776d988"
      },
      "execution_count": null,
      "outputs": [
        {
          "output_type": "stream",
          "name": "stdout",
          "text": [
            "Katty Fuertes\n",
            "KATTY FUERTES\n",
            "katty fuertes\n"
          ]
        }
      ]
    },
    {
      "cell_type": "code",
      "source": [
        "tmp='katty; carolina; luis'\n",
        "print(tmp)\n",
        "print(tmp.split(';'))"
      ],
      "metadata": {
        "colab": {
          "base_uri": "https://localhost:8080/"
        },
        "id": "LlmDjjSfVM0J",
        "outputId": "a43df7c8-1e08-4eac-b0da-34027e432711"
      },
      "execution_count": null,
      "outputs": [
        {
          "output_type": "stream",
          "name": "stdout",
          "text": [
            "katty; carolina; luis\n",
            "['katty', ' carolina', ' luis']\n"
          ]
        }
      ]
    },
    {
      "cell_type": "code",
      "source": [
        "scholarList=['notebook','pen','ruler','eraser','pencil']\n",
        "print(scholarList)\n",
        "scholarList.append('computer')\n",
        "print(scholarList)\n",
        "#print(scholarList[3])\n",
        "#scholarList.pop(3)\n",
        "del scholarList[3]\n",
        "print(scholarList)"
      ],
      "metadata": {
        "colab": {
          "base_uri": "https://localhost:8080/"
        },
        "id": "wJGclzVCV2j4",
        "outputId": "fa611513-548b-45d0-afea-e88b8f6eb554"
      },
      "execution_count": null,
      "outputs": [
        {
          "output_type": "stream",
          "name": "stdout",
          "text": [
            "['notebook', 'pen', 'ruler', 'eraser', 'pencil']\n",
            "['notebook', 'pen', 'ruler', 'eraser', 'pencil', 'computer']\n",
            "['notebook', 'pen', 'ruler', 'pencil', 'computer']\n"
          ]
        }
      ]
    },
    {
      "cell_type": "code",
      "source": [],
      "metadata": {
        "id": "MS-cPm8gw7N4"
      },
      "execution_count": null,
      "outputs": []
    },
    {
      "cell_type": "code",
      "source": [
        "myList= list(range(15))\n",
        "print(myList)\n",
        "print(myList[5:11])\n",
        "print(myList[-5])"
      ],
      "metadata": {
        "colab": {
          "base_uri": "https://localhost:8080/"
        },
        "id": "q6XOXzP6Y2Mp",
        "outputId": "f37b1077-be91-4bd9-fd83-6507556fde2a"
      },
      "execution_count": null,
      "outputs": [
        {
          "output_type": "stream",
          "name": "stdout",
          "text": [
            "[0, 1, 2, 3, 4, 5, 6, 7, 8, 9, 10, 11, 12, 13, 14]\n",
            "[5, 6, 7, 8, 9, 10]\n",
            "10\n"
          ]
        }
      ]
    },
    {
      "cell_type": "markdown",
      "source": [
        "**Diccionario**"
      ],
      "metadata": {
        "id": "SZzYMZm_xIaW"
      }
    },
    {
      "cell_type": "code",
      "source": [
        "miDiccionario = {'cat':'bonito', 'dog':'angry', 'lion':'strong'}\n",
        "\n",
        "print(type(miDiccionario))\n",
        "\n",
        "for key, value in miDiccionario.items():\n",
        "  print(f'key {key}, value {value}')\n",
        "  print('key %s, value %s'%(key,value))\n",
        "  print('the key value is: {} and the value is: {}'.format(key, value))\n",
        "miDiccionario['monkey']='so cute'\n",
        "\n",
        "print('------------------')\n",
        "print(miDiccionario)"
      ],
      "metadata": {
        "id": "Z-LB7HImxS7t",
        "outputId": "e5d95faa-a088-4523-aeea-5043901a224d",
        "colab": {
          "base_uri": "https://localhost:8080/"
        }
      },
      "execution_count": null,
      "outputs": [
        {
          "output_type": "stream",
          "name": "stdout",
          "text": [
            "<class 'dict'>\n",
            "key cat, value bonito\n",
            "key cat, value bonito\n",
            "the key value is: cat and the value is: bonito\n",
            "key dog, value angry\n",
            "key dog, value angry\n",
            "the key value is: dog and the value is: angry\n",
            "key lion, value strong\n",
            "key lion, value strong\n",
            "the key value is: lion and the value is: strong\n",
            "------------------\n",
            "{'cat': 'bonito', 'dog': 'angry', 'lion': 'strong', 'monkey': 'so cute'}\n"
          ]
        }
      ]
    },
    {
      "cell_type": "code",
      "source": [
        "tmp=list()\n",
        "\n",
        "for i in range(1,101,1):\n",
        "  tmp.append(i)\n",
        "print(tmp)\n",
        "print('------------------')\n",
        "\n",
        "tmp2=list()\n",
        "for i in range(0,101,1):\n",
        "  if i%2==0:\n",
        "    tmp2.append(i)\n",
        "print(tmp2)\n",
        "print('------------------')\n",
        "\n",
        "aux=[ i  for i in range (1,101,2)]\n",
        "print(aux)\n",
        "aux=[ i  for i in range (1,101)  if i%2==0]\n",
        "print(aux)"
      ],
      "metadata": {
        "id": "w1w2W5jixiek",
        "outputId": "a46b4a6e-ea58-424c-d701-4c68433e9493",
        "colab": {
          "base_uri": "https://localhost:8080/"
        }
      },
      "execution_count": null,
      "outputs": [
        {
          "output_type": "stream",
          "name": "stdout",
          "text": [
            "[1, 2, 3, 4, 5, 6, 7, 8, 9, 10, 11, 12, 13, 14, 15, 16, 17, 18, 19, 20, 21, 22, 23, 24, 25, 26, 27, 28, 29, 30, 31, 32, 33, 34, 35, 36, 37, 38, 39, 40, 41, 42, 43, 44, 45, 46, 47, 48, 49, 50, 51, 52, 53, 54, 55, 56, 57, 58, 59, 60, 61, 62, 63, 64, 65, 66, 67, 68, 69, 70, 71, 72, 73, 74, 75, 76, 77, 78, 79, 80, 81, 82, 83, 84, 85, 86, 87, 88, 89, 90, 91, 92, 93, 94, 95, 96, 97, 98, 99, 100]\n",
            "------------------\n",
            "[0, 2, 4, 6, 8, 10, 12, 14, 16, 18, 20, 22, 24, 26, 28, 30, 32, 34, 36, 38, 40, 42, 44, 46, 48, 50, 52, 54, 56, 58, 60, 62, 64, 66, 68, 70, 72, 74, 76, 78, 80, 82, 84, 86, 88, 90, 92, 94, 96, 98, 100]\n",
            "------------------\n",
            "[1, 3, 5, 7, 9, 11, 13, 15, 17, 19, 21, 23, 25, 27, 29, 31, 33, 35, 37, 39, 41, 43, 45, 47, 49, 51, 53, 55, 57, 59, 61, 63, 65, 67, 69, 71, 73, 75, 77, 79, 81, 83, 85, 87, 89, 91, 93, 95, 97, 99]\n",
            "[2, 4, 6, 8, 10, 12, 14, 16, 18, 20, 22, 24, 26, 28, 30, 32, 34, 36, 38, 40, 42, 44, 46, 48, 50, 52, 54, 56, 58, 60, 62, 64, 66, 68, 70, 72, 74, 76, 78, 80, 82, 84, 86, 88, 90, 92, 94, 96, 98, 100]\n"
          ]
        }
      ]
    },
    {
      "cell_type": "code",
      "source": [
        "tmplist=[i**2 for i in range(1,101) if i%2==0]\n",
        "print(tmplist)"
      ],
      "metadata": {
        "id": "vXC8-9DUxoWT",
        "outputId": "de891c7c-afaf-45a7-9c84-e2cd987f4328",
        "colab": {
          "base_uri": "https://localhost:8080/"
        }
      },
      "execution_count": null,
      "outputs": [
        {
          "output_type": "stream",
          "name": "stdout",
          "text": [
            "[4, 16, 36, 64, 100, 144, 196, 256, 324, 400, 484, 576, 676, 784, 900, 1024, 1156, 1296, 1444, 1600, 1764, 1936, 2116, 2304, 2500, 2704, 2916, 3136, 3364, 3600, 3844, 4096, 4356, 4624, 4900, 5184, 5476, 5776, 6084, 6400, 6724, 7056, 7396, 7744, 8100, 8464, 8836, 9216, 9604, 10000]\n"
          ]
        }
      ]
    },
    {
      "cell_type": "code",
      "source": [
        "def upperCase(valString):\n",
        "  pass"
      ],
      "metadata": {
        "id": "kt-jZ-zoxuep"
      },
      "execution_count": null,
      "outputs": []
    },
    {
      "cell_type": "markdown",
      "source": [
        "**Tipos de Datos Básicos**"
      ],
      "metadata": {
        "id": "SZHeCrQGyQ8w"
      }
    },
    {
      "cell_type": "code",
      "source": [
        "sample1=10\n",
        "sample2=2.2\n",
        "sample3=\"Katty\"\n",
        "\n",
        "print(type(sample1))\n",
        "print(type(sample2))\n",
        "print(type(sample3))\n",
        "\n",
        "print(sample1+sample2)\n",
        "print(sample1*sample2)\n",
        "print(sample1-sample2)\n",
        "print(sample1**2)\n",
        "\n",
        "s1=True\n",
        "s2=False\n",
        "print(s1 and s2)\n",
        "print(s1 or s2)\n",
        "print(s2 and s1)\n",
        "print(not s1)\n",
        "\n",
        "print(len(sample3))\n",
        "print(sample3.upper())\n",
        "print(sample3.lower())\n",
        "print(sample3.capitalize())"
      ],
      "metadata": {
        "colab": {
          "base_uri": "https://localhost:8080/"
        },
        "id": "xf1rr5jByOEd",
        "outputId": "f7573fcc-eb15-4c37-831a-123ee7c7ab33"
      },
      "execution_count": 1,
      "outputs": [
        {
          "output_type": "stream",
          "name": "stdout",
          "text": [
            "<class 'int'>\n",
            "<class 'float'>\n",
            "<class 'str'>\n",
            "12.2\n",
            "22.0\n",
            "7.8\n",
            "100\n",
            "False\n",
            "True\n",
            "False\n",
            "False\n",
            "5\n",
            "KATTY\n",
            "katty\n",
            "Katty\n"
          ]
        }
      ]
    },
    {
      "cell_type": "markdown",
      "source": [
        "**Listas**"
      ],
      "metadata": {
        "id": "0gaRVvmQyfkm"
      }
    },
    {
      "cell_type": "code",
      "source": [
        "someList=list()\n",
        "someList=[\"borrador\",1,\"goma\",\"mochila\",True]\n",
        "print(someList[4])\n",
        "print(len(someList))\n",
        "\n",
        "print(\"----------\")\n",
        "for i in someList:\n",
        "  print(i)\n",
        "\n",
        "someList.append(\"regla\")\n",
        "print(\"----------\")\n",
        "for i in someList:\n",
        "  print(i)\n",
        "\n",
        "someList.pop(2)\n",
        "print(\"----------\")\n",
        "for i in someList:\n",
        "  print(i)\n",
        "\n",
        "print(\"----------\")\n",
        "print(someList[1:4])\n",
        "\n",
        "print(someList[-1])\n",
        "print(someList[:3])\n"
      ],
      "metadata": {
        "colab": {
          "base_uri": "https://localhost:8080/"
        },
        "id": "_eEIs6OnyW1k",
        "outputId": "dbd19f6b-8126-4a51-94a6-e062a84d5f35"
      },
      "execution_count": 2,
      "outputs": [
        {
          "output_type": "stream",
          "name": "stdout",
          "text": [
            "True\n",
            "5\n",
            "----------\n",
            "borrador\n",
            "1\n",
            "goma\n",
            "mochila\n",
            "True\n",
            "----------\n",
            "borrador\n",
            "1\n",
            "goma\n",
            "mochila\n",
            "True\n",
            "regla\n",
            "----------\n",
            "borrador\n",
            "1\n",
            "mochila\n",
            "True\n",
            "regla\n",
            "----------\n",
            "[1, 'mochila', True]\n",
            "regla\n",
            "['borrador', 1, 'mochila']\n"
          ]
        }
      ]
    },
    {
      "cell_type": "markdown",
      "source": [
        "**Diccionarios**"
      ],
      "metadata": {
        "id": "59XBp28Lytxr"
      }
    },
    {
      "cell_type": "code",
      "source": [
        "from __future__ import unicode_literals\n",
        "d={\"name\":\"Katty\",\"age\":22,\"city\":\"Santo Domingo\"}\n",
        "print(d[\"name\"])\n",
        "print(d[\"age\"])\n",
        "print(d[\"city\"])\n",
        "\n",
        "d[\"uni\"]=\"Uleam\"\n",
        "print(d[\"uni\"])\n",
        "\n",
        "for key in d:\n",
        "  print(d[key])"
      ],
      "metadata": {
        "colab": {
          "base_uri": "https://localhost:8080/"
        },
        "id": "oOq7RVtRym0u",
        "outputId": "31f5d558-b219-4337-d359-ca66e97da65f"
      },
      "execution_count": 3,
      "outputs": [
        {
          "output_type": "stream",
          "name": "stdout",
          "text": [
            "Katty\n",
            "22\n",
            "Santo Domingo\n",
            "Uleam\n",
            "Katty\n",
            "22\n",
            "Santo Domingo\n",
            "Uleam\n"
          ]
        }
      ]
    }
  ]
}