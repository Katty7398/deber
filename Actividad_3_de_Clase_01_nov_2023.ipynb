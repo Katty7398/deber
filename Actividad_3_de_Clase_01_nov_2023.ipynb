{
  "nbformat": 4,
  "nbformat_minor": 0,
  "metadata": {
    "colab": {
      "provenance": [],
      "include_colab_link": true
    },
    "kernelspec": {
      "name": "python3",
      "display_name": "Python 3"
    },
    "language_info": {
      "name": "python"
    }
  },
  "cells": [
    {
      "cell_type": "markdown",
      "metadata": {
        "id": "view-in-github",
        "colab_type": "text"
      },
      "source": [
        "<a href=\"https://colab.research.google.com/github/Katty7398/deber/blob/main/Actividad_3_de_Clase_01_nov_2023.ipynb\" target=\"_parent\"><img src=\"https://colab.research.google.com/assets/colab-badge.svg\" alt=\"Open In Colab\"/></a>"
      ]
    },
    {
      "cell_type": "markdown",
      "source": [
        "MATRIZ RANGO 1 Y 2"
      ],
      "metadata": {
        "id": "4-us78vIQNUm"
      }
    },
    {
      "cell_type": "markdown",
      "source": [],
      "metadata": {
        "id": "xfYY3K9yX0Gd"
      }
    },
    {
      "cell_type": "code",
      "execution_count": null,
      "metadata": {
        "colab": {
          "base_uri": "https://localhost:8080/"
        },
        "id": "5Bry79BDNawD",
        "outputId": "427ece74-468c-46b3-a993-ccec8aa7c509"
      },
      "outputs": [
        {
          "output_type": "stream",
          "name": "stdout",
          "text": [
            "[1 2 4 5]\n",
            "(4,)\n",
            "(2, 4)\n",
            "[[1 2 3 4]\n",
            " [1 2 3 4]]\n",
            "<class 'numpy.ndarray'>\n",
            "[[0. 0. 0. 0.]\n",
            " [0. 0. 0. 0.]\n",
            " [0. 0. 0. 0.]\n",
            " [0. 0. 0. 0.]]\n",
            "[[5 5 5 5]\n",
            " [5 5 5 5]\n",
            " [5 5 5 5]\n",
            " [5 5 5 5]]\n",
            "[[1. 0. 0. 0.]\n",
            " [0. 1. 0. 0.]\n",
            " [0. 0. 1. 0.]\n",
            " [0. 0. 0. 1.]]\n",
            "----------------\n",
            "[[1. 1. 1. 1.]\n",
            " [1. 1. 1. 1.]\n",
            " [1. 1. 1. 1.]\n",
            " [1. 1. 1. 1.]]\n",
            "(4, 4)\n"
          ]
        }
      ],
      "source": [
        "import numpy as np\n",
        "aux=np.array([1,2,4,5])\n",
        "print(aux)\n",
        "print(aux.shape)\n",
        "\n",
        "\n",
        "\n",
        "aux=np.array([[1,2,3,4],[1,2,3,4]])\n",
        "print(aux.shape)\n",
        "print(aux)\n",
        "print(type(aux))\n",
        "\n",
        "\n",
        "tmp=np.zeros((4,4))\n",
        "print(tmp)\n",
        "\n",
        "tmp=np.full((4,4),5)\n",
        "print(tmp)\n",
        "\n",
        "tmp=np.eye(4,4)\n",
        "print(tmp)\n",
        "\n",
        "print(\"----------------\")\n",
        "tmp=np.ones((4,4))\n",
        "print(tmp)\n",
        "\n",
        "print(tmp.shape)\n"
      ]
    },
    {
      "cell_type": "markdown",
      "source": [
        "MATRIZ 3*3"
      ],
      "metadata": {
        "id": "VY5Iv8oPQTbN"
      }
    },
    {
      "cell_type": "code",
      "source": [
        "tmp=10*np.random.random((3,3))\n",
        "print(tmp)"
      ],
      "metadata": {
        "colab": {
          "base_uri": "https://localhost:8080/"
        },
        "id": "m6dE2ciYN9z3",
        "outputId": "5acb9e89-513c-4ac1-a642-453cca9fcfa6"
      },
      "execution_count": null,
      "outputs": [
        {
          "output_type": "stream",
          "name": "stdout",
          "text": [
            "[[6.0024621  6.36348353 1.59783524]\n",
            " [5.87235239 1.24315553 9.11014664]\n",
            " [6.30507848 9.8378046  9.86194672]]\n"
          ]
        }
      ]
    },
    {
      "cell_type": "markdown",
      "source": [
        "FILA 0 Y FILA 1"
      ],
      "metadata": {
        "id": "HGQY-5RKTAtq"
      }
    },
    {
      "cell_type": "code",
      "source": [
        "print(tmp[:2,:2])"
      ],
      "metadata": {
        "colab": {
          "base_uri": "https://localhost:8080/"
        },
        "id": "_Dvt4i57SZdF",
        "outputId": "5bf4f257-528b-42af-f182-0a6684fea6e6"
      },
      "execution_count": null,
      "outputs": [
        {
          "output_type": "stream",
          "name": "stdout",
          "text": [
            "[[6.0024621  6.36348353]\n",
            " [5.87235239 1.24315553]]\n"
          ]
        }
      ]
    },
    {
      "cell_type": "code",
      "source": [
        "print(tmp[:2,1:3])"
      ],
      "metadata": {
        "colab": {
          "base_uri": "https://localhost:8080/"
        },
        "id": "lza67sB_S-1N",
        "outputId": "d26eff48-afaf-4361-b2a2-fe9983a4bfe8"
      },
      "execution_count": null,
      "outputs": [
        {
          "output_type": "stream",
          "name": "stdout",
          "text": [
            "[[6.36348353 1.59783524]\n",
            " [1.24315553 9.11014664]]\n"
          ]
        }
      ]
    },
    {
      "cell_type": "code",
      "source": [
        "print(tmp[1,1])"
      ],
      "metadata": {
        "colab": {
          "base_uri": "https://localhost:8080/"
        },
        "id": "y700npGhTVCF",
        "outputId": "507a0d74-1fbf-40c6-d30c-24aebd8886fc"
      },
      "execution_count": null,
      "outputs": [
        {
          "output_type": "stream",
          "name": "stdout",
          "text": [
            "1.2431555283513485\n"
          ]
        }
      ]
    },
    {
      "cell_type": "code",
      "source": [
        "print(tmp[2,2])"
      ],
      "metadata": {
        "colab": {
          "base_uri": "https://localhost:8080/"
        },
        "id": "VY23XbvoTuLu",
        "outputId": "0a58e204-7deb-4d90-f747-fc2d4223be07"
      },
      "execution_count": null,
      "outputs": [
        {
          "output_type": "stream",
          "name": "stdout",
          "text": [
            "9.86194671613455\n"
          ]
        }
      ]
    },
    {
      "cell_type": "markdown",
      "source": [
        "filtrar datos\n"
      ],
      "metadata": {
        "id": "9X7Sj0RTUALl"
      }
    },
    {
      "cell_type": "code",
      "source": [
        "tmp=10*np.random.random((3,3))\n",
        "print(tmp)"
      ],
      "metadata": {
        "colab": {
          "base_uri": "https://localhost:8080/"
        },
        "id": "OAfasURKT5F1",
        "outputId": "512f4b4f-ee3b-4709-8d6e-fb58412626ef"
      },
      "execution_count": null,
      "outputs": [
        {
          "output_type": "stream",
          "name": "stdout",
          "text": [
            "[[0.96298409 5.22654223 6.84802529]\n",
            " [9.20886781 8.27367577 2.96807272]\n",
            " [3.41008189 6.91393543 8.38241903]]\n"
          ]
        }
      ]
    },
    {
      "cell_type": "code",
      "source": [
        "mask=tmp>5\n",
        "print(mask)"
      ],
      "metadata": {
        "colab": {
          "base_uri": "https://localhost:8080/"
        },
        "id": "DRH3qZ_JUUzu",
        "outputId": "b6342fe8-3452-4718-e572-3260b385300d"
      },
      "execution_count": null,
      "outputs": [
        {
          "output_type": "stream",
          "name": "stdout",
          "text": [
            "[[False  True  True]\n",
            " [ True  True False]\n",
            " [False  True  True]]\n"
          ]
        }
      ]
    },
    {
      "cell_type": "code",
      "source": [
        "mask=tmp>5\n",
        "print(tmp[mask])"
      ],
      "metadata": {
        "colab": {
          "base_uri": "https://localhost:8080/"
        },
        "id": "q57MPULqUhps",
        "outputId": "169aeee7-0895-4128-fde8-73208f624c7f"
      },
      "execution_count": null,
      "outputs": [
        {
          "output_type": "stream",
          "name": "stdout",
          "text": [
            "[5.22654223 6.84802529 9.20886781 8.27367577 6.91393543 8.38241903]\n"
          ]
        }
      ]
    },
    {
      "cell_type": "code",
      "source": [
        "mask = (tmp >= 2) & (tmp <= 4)\n",
        "print(tmp[mask])"
      ],
      "metadata": {
        "colab": {
          "base_uri": "https://localhost:8080/"
        },
        "id": "RTtpoDVTUw0d",
        "outputId": "71f2bc75-40ce-4372-848a-c4a4e7b6612a"
      },
      "execution_count": null,
      "outputs": [
        {
          "output_type": "stream",
          "name": "stdout",
          "text": [
            "[2.96807272 3.41008189]\n"
          ]
        }
      ]
    },
    {
      "cell_type": "code",
      "source": [
        "integer_array = np.random.randint (0,10, (4,4))\n",
        "print(integer_array)"
      ],
      "metadata": {
        "colab": {
          "base_uri": "https://localhost:8080/"
        },
        "id": "kiNYvX7zXBjE",
        "outputId": "98bf9a40-28d5-40e3-9689-02ba8f1f0dd8"
      },
      "execution_count": null,
      "outputs": [
        {
          "output_type": "stream",
          "name": "stdout",
          "text": [
            "[[2 3 0 0]\n",
            " [4 8 3 3]\n",
            " [9 9 3 3]\n",
            " [0 1 1 4]]\n"
          ]
        }
      ]
    },
    {
      "cell_type": "code",
      "source": [
        "# Crear una máscara booleana para los números pares\n",
        "mascara_pares = integer_array % 2 == 0\n",
        "\n",
        "# Filtrar los números pares utilizando la máscara\n",
        "numeros_pares = integer_array[mascara_pares]\n",
        "\n",
        "print(\"\\nNúmeros pares:\")\n",
        "print(numeros_pares)\n"
      ],
      "metadata": {
        "colab": {
          "base_uri": "https://localhost:8080/"
        },
        "id": "jzg-AueQXVI7",
        "outputId": "b449ed19-320e-4803-ded2-d029942e7593"
      },
      "execution_count": null,
      "outputs": [
        {
          "output_type": "stream",
          "name": "stdout",
          "text": [
            "\n",
            "Números pares:\n",
            "[2 0 0 4 8 0 4]\n"
          ]
        }
      ]
    }
  ]
}